{
 "cells": [
  {
   "cell_type": "code",
   "execution_count": 31,
   "id": "4fe63441",
   "metadata": {},
   "outputs": [],
   "source": [
    "#Run through all the cases in a specified folder\n",
    "#Look through all the times, generate NIFTI files using reconstruction\n",
    "#Put it into a separate output folder\n",
    "#Each case must include the ED and ES in a info.txt"
   ]
  },
  {
   "cell_type": "code",
   "execution_count": 32,
   "id": "0d8d3334",
   "metadata": {},
   "outputs": [],
   "source": [
    "import os\n",
    "import numpy as np\n",
    "from PIL import Image\n",
    "import nibabel as nib\n",
    "import matplotlib.pyplot as plt\n",
    "import cv2\n",
    "from scipy.ndimage import map_coordinates \n",
    "from glob import glob"
   ]
  },
  {
   "cell_type": "code",
   "execution_count": 33,
   "id": "7acba7c5",
   "metadata": {},
   "outputs": [],
   "source": [
    "realigned_folder = \"C:/Users/haziq/OneDrive - Imperial College London/Directional Data/QIFENG/Finial_Cases(37&#x3a;52)(image+mask)\"\n",
    "output_folder = \"C:/Users/haziq/OneDrive - Imperial College London/Modules/Fourth Year/MEng Individual Project/MastersProject/GHD/Motion_Niftis\"\n",
    "\n",
    "output_results = os.path.join(output_folder, \"results\")\n",
    "output_image = os.path.join(output_folder,\"image\")"
   ]
  },
  {
   "cell_type": "code",
   "execution_count": 34,
   "id": "ec06cd10",
   "metadata": {},
   "outputs": [
    {
     "name": "stdout",
     "output_type": "stream",
     "text": [
      "['07SEP2021P1_1', '07SEP2021P1_3', '07SEP2021P2_1', '07SEP2021P3_1', '12OCT2021P1_2', '12OCT2021P2_3', '12OCT2021P2_4', '13JUL2021P1_1', '13JUL2021P1_3', '21092021P2_1', '21092021P2_2', '21092021P2_3', '21225_2', '23NOV2021P3_1', 'c.h._5', 'dtga_vitium_1', 'dtga_vitium_2', 'dtga_vitium_3', 'I0000068', 'IMG_20241006_2_1', 'IMG_20241006_2_2', 'IMG_20241006_2_3', 'IMG_20241006_2_4', 'IMG_20241006_2_5', 'IMG_20241206_2_1', 'IMG_20241206_2_2', 'IMG_20241212_2_2', 'IMG_20241212_2_3', 'IMG_20241230_4_2', 'IMG_20241230_4_3', 'IMG_20250326_6_1', 'IMG_20250326_6_2', 'IMG_20250328_3_1', 'IMG_20250328_3_2', 'k2025_12', 'k2025_13', 'k2025_5', 'k2025_7', 'l.k._4', 'stic2002_5', 'stic2002_6', 'stic2025-1_1', 'stic2025-1_2', 'stic2025-1_3', 'stic2025-1_4', 'stic2025-1_5', 'stic2025-1_6', 'stic21225_2', 'stic21225_3', 'stic21225_5', 'TOF_05AUG2016P1A', 'TOF_24JUN2016P1']\n"
     ]
    }
   ],
   "source": [
    "print([os.path.basename(case) for case in glob(realigned_folder+\"/*\") if os.path.isdir(case)])"
   ]
  },
  {
   "cell_type": "code",
   "execution_count": 35,
   "id": "4d183df3",
   "metadata": {},
   "outputs": [
    {
     "name": "stdout",
     "output_type": "stream",
     "text": [
      "['21092021P2_3', '21225_2', 'c.h._5', 'dtga_vitium_1', 'dtga_vitium_2', 'dtga_vitium_3', 'I0000068', 'IMG_20241006_2_3', 'IMG_20241006_2_4', 'IMG_20241006_2_5', 'IMG_20241206_2_1', 'IMG_20241206_2_2', 'IMG_20241212_2_2', 'IMG_20241212_2_3', 'IMG_20241230_4_2', 'IMG_20241230_4_3', 'IMG_20250326_6_1', 'IMG_20250326_6_2', 'IMG_20250328_3_1', 'IMG_20250328_3_2', 'k2025_12', 'k2025_13', 'k2025_5', 'k2025_7', 'l.k._4', 'stic2002_5', 'stic2002_6', 'stic2025-1_1', 'stic2025-1_2', 'stic2025-1_3', 'stic2025-1_4', 'stic2025-1_5', 'stic2025-1_6', 'stic21225_2', 'stic21225_3', 'stic21225_5', 'TOF_05AUG2016P1A', 'TOF_24JUN2016P1']\n",
      "['07SEP2021P1_1', '07SEP2021P1_3', '07SEP2021P2_1', '07SEP2021P3_1', '12OCT2021P1_2', '12OCT2021P2_3', '12OCT2021P2_4', '13JUL2021P1_1', '13JUL2021P1_3', '21092021P2_1', '21092021P2_2', '23NOV2021P3_1', 'IMG_20241006_2_1', 'IMG_20241006_2_2']\n"
     ]
    }
   ],
   "source": [
    "cases = [os.path.basename(case) for case in glob(realigned_folder+\"/*\") if os.path.isdir(case)]\n",
    "done_cases = [os.path.basename(case) for case in glob(os.path.join(output_folder, \"Done/*\")) if os.path.isdir(case)]\n",
    "for case in cases[:]:  # iterate over a copy\n",
    "    if case in done_cases:\n",
    "        cases.remove(case)\n",
    "        continue\n",
    "    \n",
    "    os.makedirs(os.path.join(output_results,case),exist_ok=True)\n",
    "    os.makedirs(os.path.join(output_image,case),exist_ok=True)\n",
    "\n",
    "print(cases)\n",
    "print(done_cases)\n"
   ]
  },
  {
   "cell_type": "code",
   "execution_count": 36,
   "id": "8b2e2ae1",
   "metadata": {},
   "outputs": [
    {
     "name": "stdout",
     "output_type": "stream",
     "text": [
      "38\n"
     ]
    }
   ],
   "source": [
    "print(len(cases))"
   ]
  },
  {
   "cell_type": "code",
   "execution_count": 37,
   "id": "c02d2264",
   "metadata": {},
   "outputs": [],
   "source": [
    "def load_images_from_time(input_folder, type, downsample_factor=1):\n",
    "    file_list = sorted([f for f in os.listdir(input_folder) if f.endswith('.png')])\n",
    "    slices = []\n",
    "    \n",
    "    for file in file_list:\n",
    "        img = cv2.imread(os.path.join(input_folder, file), 0)\n",
    "        img = img / img.max()\n",
    "        \n",
    "        if type != \"img\":\n",
    "            vals = np.unique(img)\n",
    "            if len(vals) > 2:  # Ensure there are at least 3 unique values\n",
    "                img[img == vals[1]] = 255\n",
    "                img[img == vals[2]] = 127\n",
    "        \n",
    "        if downsample_factor > 1:\n",
    "            new_size = (img.shape[1] // downsample_factor, img.shape[0] // downsample_factor)\n",
    "            img = cv2.resize(img, new_size, interpolation=cv2.INTER_AREA)\n",
    "\n",
    "        slices.append(np.array(img))\n",
    "    \n",
    "    return slices[:37]  # Ensure only the first 36 images are loaded\n",
    "\n",
    "    # image = cv2.imread(glob(user_path)[0],0)\n",
    "# print(image.shape)"
   ]
  },
  {
   "cell_type": "code",
   "execution_count": 38,
   "id": "3b565003",
   "metadata": {},
   "outputs": [],
   "source": [
    "def cylindrical_volume(slices, angle_step, centroid=None, use_interpolation=True):\n",
    "    # Assume each slice is a 2D numpy array with shape (height, width)\n",
    "    height, width = slices[0].shape\n",
    "    # print(f\"Slice dimensions: {(height, width)}\")\n",
    "    \n",
    "    #Default centroid to image center\n",
    "    center_x = center_y = centroid\n",
    "    \n",
    "    # Use a square base dimension that is the maximum of width and height.\n",
    "    base = width\n",
    "    # Create the volume with dimensions (base, base, height).\n",
    "    # The x-y plane is square to fully capture rotated coordinates.\n",
    "    volume = np.zeros((base, base, height), dtype=slices[0].dtype)\n",
    "    \n",
    "    # Process each slice.\n",
    "    for i, slice_img in enumerate(slices):\n",
    "        theta = np.deg2rad(i * angle_step)\n",
    "        cos_theta = np.cos(theta)\n",
    "        sin_theta = np.sin(theta)\n",
    "        \n",
    "        # Loop over pixel positions relative to the image center.\n",
    "        for dx in range(-center_x, center_x):\n",
    "            for dy in range(-center_y, center_y):\n",
    "                # Compute the rotated coordinates for the horizontal offset (dx).\n",
    "                # These determine where the pixel falls in the x-y plane of the volume.\n",
    "                x_rot = int(base // 2 + dx * cos_theta)\n",
    "                y_rot = int(base // 2 + dx * sin_theta)\n",
    "                # Use the vertical offset (dy) to determine the z coordinate.\n",
    "                z_pos = dy + center_y  # This will be in [0, height)\n",
    "                \n",
    "                # Ensure the computed indices are within the volume bounds.\n",
    "                if 0 <= x_rot < base and 0 <= y_rot < base and 0 <= z_pos < height:\n",
    "                    # Map the pixel from the slice into the volume.\n",
    "                    volume[x_rot, y_rot, z_pos] = slice_img[dy + center_y, dx + center_x]\n",
    "    \n",
    "    return volume"
   ]
  },
  {
   "cell_type": "code",
   "execution_count": 39,
   "id": "98d6535f",
   "metadata": {},
   "outputs": [],
   "source": [
    "# Step 3: Save as NIfTI\n",
    "def save_nifti(volume, output_file):\n",
    "    nifti_img = nib.Nifti1Image(volume, affine=np.eye(4))\n",
    "    nib.save(nifti_img, output_file)\n",
    "    print(f\"NIfTI file saved to {output_file}\")"
   ]
  },
  {
   "cell_type": "code",
   "execution_count": 40,
   "id": "9edda7e5",
   "metadata": {},
   "outputs": [],
   "source": [
    "def create_nifti(volume_path, output_path, type=\"img\"):\n",
    "    slices = np.array(load_images_from_time(volume_path, type,1))\n",
    "    centroid = np.shape(slices[0])[1]//2\n",
    "    _, n_r, n_z = np.shape(slices)\n",
    "    n_theta = 360\n",
    "    volume = np.zeros((n_theta, n_r, n_z))\n",
    "    \n",
    "    for theta_idx,slice in zip(range(0, 180, 5), slices):  # 180 degrees, 5 degree steps\n",
    "        # Compute the slice index (i corresponds to theta in degrees)\n",
    "\n",
    "        volume[theta_idx, :, :] = slice\n",
    "        \n",
    "    cylindrical_vol = cylindrical_volume(slices,5,centroid, False)\n",
    "    save_nifti(cylindrical_vol, output_path)"
   ]
  },
  {
   "cell_type": "code",
   "execution_count": 41,
   "id": "84d3f97b",
   "metadata": {},
   "outputs": [
    {
     "name": "stdout",
     "output_type": "stream",
     "text": [
      "['21092021P2_3', '21225_2', 'c.h._5', 'dtga_vitium_1', 'dtga_vitium_2', 'dtga_vitium_3', 'I0000068', 'IMG_20241006_2_3', 'IMG_20241006_2_4', 'IMG_20241006_2_5', 'IMG_20241206_2_1', 'IMG_20241206_2_2', 'IMG_20241212_2_2', 'IMG_20241212_2_3', 'IMG_20241230_4_2', 'IMG_20241230_4_3', 'IMG_20250326_6_1', 'IMG_20250326_6_2', 'IMG_20250328_3_1', 'IMG_20250328_3_2', 'k2025_12', 'k2025_13', 'k2025_5', 'k2025_7', 'l.k._4', 'stic2002_5', 'stic2002_6', 'stic2025-1_1', 'stic2025-1_2', 'stic2025-1_3', 'stic2025-1_4', 'stic2025-1_5', 'stic2025-1_6', 'stic21225_2', 'stic21225_3', 'stic21225_5', 'TOF_05AUG2016P1A', 'TOF_24JUN2016P1']\n"
     ]
    }
   ],
   "source": [
    "print(cases)"
   ]
  },
  {
   "cell_type": "code",
   "execution_count": null,
   "id": "4b4a492a",
   "metadata": {},
   "outputs": [
    {
     "name": "stdout",
     "output_type": "stream",
     "text": [
      "C:/Users/haziq/OneDrive - Imperial College London/Directional Data/QIFENG/Finial_Cases(37&#x3a;52)(image+mask)\\dtga_vitium_2\\time001\\mask\n",
      "NIfTI file saved to C:/Users/haziq/OneDrive - Imperial College London/Modules/Fourth Year/MEng Individual Project/MastersProject/GHD/Motion_Niftis\\results/dtga_vitium_2\\dtga_vitium_2_time001_seg.nii.gz\n",
      "C:/Users/haziq/OneDrive - Imperial College London/Directional Data/QIFENG/Finial_Cases(37&#x3a;52)(image+mask)\\dtga_vitium_2\\time002\\mask\n",
      "NIfTI file saved to C:/Users/haziq/OneDrive - Imperial College London/Modules/Fourth Year/MEng Individual Project/MastersProject/GHD/Motion_Niftis\\results/dtga_vitium_2\\dtga_vitium_2_time002_seg.nii.gz\n",
      "C:/Users/haziq/OneDrive - Imperial College London/Directional Data/QIFENG/Finial_Cases(37&#x3a;52)(image+mask)\\dtga_vitium_2\\time003\\mask\n",
      "NIfTI file saved to C:/Users/haziq/OneDrive - Imperial College London/Modules/Fourth Year/MEng Individual Project/MastersProject/GHD/Motion_Niftis\\results/dtga_vitium_2\\dtga_vitium_2_time003_seg.nii.gz\n",
      "C:/Users/haziq/OneDrive - Imperial College London/Directional Data/QIFENG/Finial_Cases(37&#x3a;52)(image+mask)\\dtga_vitium_2\\time004\\mask\n",
      "NIfTI file saved to C:/Users/haziq/OneDrive - Imperial College London/Modules/Fourth Year/MEng Individual Project/MastersProject/GHD/Motion_Niftis\\results/dtga_vitium_2\\dtga_vitium_2_time004_seg.nii.gz\n",
      "C:/Users/haziq/OneDrive - Imperial College London/Directional Data/QIFENG/Finial_Cases(37&#x3a;52)(image+mask)\\dtga_vitium_2\\time005\\mask\n",
      "NIfTI file saved to C:/Users/haziq/OneDrive - Imperial College London/Modules/Fourth Year/MEng Individual Project/MastersProject/GHD/Motion_Niftis\\results/dtga_vitium_2\\dtga_vitium_2_time005_seg.nii.gz\n",
      "C:/Users/haziq/OneDrive - Imperial College London/Directional Data/QIFENG/Finial_Cases(37&#x3a;52)(image+mask)\\dtga_vitium_2\\time006\\mask\n",
      "NIfTI file saved to C:/Users/haziq/OneDrive - Imperial College London/Modules/Fourth Year/MEng Individual Project/MastersProject/GHD/Motion_Niftis\\results/dtga_vitium_2\\dtga_vitium_2_time006_seg.nii.gz\n",
      "C:/Users/haziq/OneDrive - Imperial College London/Directional Data/QIFENG/Finial_Cases(37&#x3a;52)(image+mask)\\dtga_vitium_2\\time007\\mask\n",
      "NIfTI file saved to C:/Users/haziq/OneDrive - Imperial College London/Modules/Fourth Year/MEng Individual Project/MastersProject/GHD/Motion_Niftis\\results/dtga_vitium_2\\dtga_vitium_2_time007_seg.nii.gz\n",
      "C:/Users/haziq/OneDrive - Imperial College London/Directional Data/QIFENG/Finial_Cases(37&#x3a;52)(image+mask)\\dtga_vitium_2\\time008\\mask\n",
      "NIfTI file saved to C:/Users/haziq/OneDrive - Imperial College London/Modules/Fourth Year/MEng Individual Project/MastersProject/GHD/Motion_Niftis\\results/dtga_vitium_2\\dtga_vitium_2_time008_seg.nii.gz\n",
      "C:/Users/haziq/OneDrive - Imperial College London/Directional Data/QIFENG/Finial_Cases(37&#x3a;52)(image+mask)\\dtga_vitium_2\\time009\\mask\n",
      "NIfTI file saved to C:/Users/haziq/OneDrive - Imperial College London/Modules/Fourth Year/MEng Individual Project/MastersProject/GHD/Motion_Niftis\\results/dtga_vitium_2\\dtga_vitium_2_time009_seg.nii.gz\n",
      "C:/Users/haziq/OneDrive - Imperial College London/Directional Data/QIFENG/Finial_Cases(37&#x3a;52)(image+mask)\\dtga_vitium_2\\time010\\mask\n",
      "NIfTI file saved to C:/Users/haziq/OneDrive - Imperial College London/Modules/Fourth Year/MEng Individual Project/MastersProject/GHD/Motion_Niftis\\results/dtga_vitium_2\\dtga_vitium_2_time010_seg.nii.gz\n",
      "C:/Users/haziq/OneDrive - Imperial College London/Directional Data/QIFENG/Finial_Cases(37&#x3a;52)(image+mask)\\dtga_vitium_2\\time011\\mask\n",
      "NIfTI file saved to C:/Users/haziq/OneDrive - Imperial College London/Modules/Fourth Year/MEng Individual Project/MastersProject/GHD/Motion_Niftis\\results/dtga_vitium_2\\dtga_vitium_2_time011_seg.nii.gz\n",
      "C:/Users/haziq/OneDrive - Imperial College London/Directional Data/QIFENG/Finial_Cases(37&#x3a;52)(image+mask)\\dtga_vitium_2\\time012\\mask\n",
      "NIfTI file saved to C:/Users/haziq/OneDrive - Imperial College London/Modules/Fourth Year/MEng Individual Project/MastersProject/GHD/Motion_Niftis\\results/dtga_vitium_2\\dtga_vitium_2_time012_seg.nii.gz\n",
      "C:/Users/haziq/OneDrive - Imperial College London/Directional Data/QIFENG/Finial_Cases(37&#x3a;52)(image+mask)\\dtga_vitium_2\\time013\\mask\n",
      "NIfTI file saved to C:/Users/haziq/OneDrive - Imperial College London/Modules/Fourth Year/MEng Individual Project/MastersProject/GHD/Motion_Niftis\\results/dtga_vitium_2\\dtga_vitium_2_time013_seg.nii.gz\n",
      "C:/Users/haziq/OneDrive - Imperial College London/Directional Data/QIFENG/Finial_Cases(37&#x3a;52)(image+mask)\\dtga_vitium_2\\time014\\mask\n",
      "NIfTI file saved to C:/Users/haziq/OneDrive - Imperial College London/Modules/Fourth Year/MEng Individual Project/MastersProject/GHD/Motion_Niftis\\results/dtga_vitium_2\\dtga_vitium_2_time014_seg.nii.gz\n",
      "C:/Users/haziq/OneDrive - Imperial College London/Directional Data/QIFENG/Finial_Cases(37&#x3a;52)(image+mask)\\dtga_vitium_2\\time015\\mask\n",
      "NIfTI file saved to C:/Users/haziq/OneDrive - Imperial College London/Modules/Fourth Year/MEng Individual Project/MastersProject/GHD/Motion_Niftis\\results/dtga_vitium_2\\dtga_vitium_2_time015_seg.nii.gz\n",
      "C:/Users/haziq/OneDrive - Imperial College London/Directional Data/QIFENG/Finial_Cases(37&#x3a;52)(image+mask)\\dtga_vitium_2\\time016\\mask\n",
      "NIfTI file saved to C:/Users/haziq/OneDrive - Imperial College London/Modules/Fourth Year/MEng Individual Project/MastersProject/GHD/Motion_Niftis\\results/dtga_vitium_2\\dtga_vitium_2_time016_seg.nii.gz\n",
      "C:/Users/haziq/OneDrive - Imperial College London/Directional Data/QIFENG/Finial_Cases(37&#x3a;52)(image+mask)\\dtga_vitium_2\\time017\\mask\n",
      "NIfTI file saved to C:/Users/haziq/OneDrive - Imperial College London/Modules/Fourth Year/MEng Individual Project/MastersProject/GHD/Motion_Niftis\\results/dtga_vitium_2\\dtga_vitium_2_time017_seg.nii.gz\n",
      "C:/Users/haziq/OneDrive - Imperial College London/Directional Data/QIFENG/Finial_Cases(37&#x3a;52)(image+mask)\\dtga_vitium_2\\time018\\mask\n",
      "NIfTI file saved to C:/Users/haziq/OneDrive - Imperial College London/Modules/Fourth Year/MEng Individual Project/MastersProject/GHD/Motion_Niftis\\results/dtga_vitium_2\\dtga_vitium_2_time018_seg.nii.gz\n",
      "C:/Users/haziq/OneDrive - Imperial College London/Directional Data/QIFENG/Finial_Cases(37&#x3a;52)(image+mask)\\dtga_vitium_2\\time019\\mask\n",
      "NIfTI file saved to C:/Users/haziq/OneDrive - Imperial College London/Modules/Fourth Year/MEng Individual Project/MastersProject/GHD/Motion_Niftis\\results/dtga_vitium_2\\dtga_vitium_2_time019_seg.nii.gz\n",
      "C:/Users/haziq/OneDrive - Imperial College London/Directional Data/QIFENG/Finial_Cases(37&#x3a;52)(image+mask)\\dtga_vitium_2\\time020\\mask\n",
      "NIfTI file saved to C:/Users/haziq/OneDrive - Imperial College London/Modules/Fourth Year/MEng Individual Project/MastersProject/GHD/Motion_Niftis\\results/dtga_vitium_2\\dtga_vitium_2_time020_seg.nii.gz\n",
      "C:/Users/haziq/OneDrive - Imperial College London/Directional Data/QIFENG/Finial_Cases(37&#x3a;52)(image+mask)\\dtga_vitium_2\\time021\\mask\n",
      "NIfTI file saved to C:/Users/haziq/OneDrive - Imperial College London/Modules/Fourth Year/MEng Individual Project/MastersProject/GHD/Motion_Niftis\\results/dtga_vitium_2\\dtga_vitium_2_time021_seg.nii.gz\n",
      "C:/Users/haziq/OneDrive - Imperial College London/Directional Data/QIFENG/Finial_Cases(37&#x3a;52)(image+mask)\\dtga_vitium_2\\time022\\mask\n",
      "NIfTI file saved to C:/Users/haziq/OneDrive - Imperial College London/Modules/Fourth Year/MEng Individual Project/MastersProject/GHD/Motion_Niftis\\results/dtga_vitium_2\\dtga_vitium_2_time022_seg.nii.gz\n",
      "C:/Users/haziq/OneDrive - Imperial College London/Directional Data/QIFENG/Finial_Cases(37&#x3a;52)(image+mask)\\dtga_vitium_2\\time023\\mask\n",
      "NIfTI file saved to C:/Users/haziq/OneDrive - Imperial College London/Modules/Fourth Year/MEng Individual Project/MastersProject/GHD/Motion_Niftis\\results/dtga_vitium_2\\dtga_vitium_2_time023_seg.nii.gz\n",
      "C:/Users/haziq/OneDrive - Imperial College London/Directional Data/QIFENG/Finial_Cases(37&#x3a;52)(image+mask)\\dtga_vitium_2\\time024\\mask\n",
      "NIfTI file saved to C:/Users/haziq/OneDrive - Imperial College London/Modules/Fourth Year/MEng Individual Project/MastersProject/GHD/Motion_Niftis\\results/dtga_vitium_2\\dtga_vitium_2_time024_seg.nii.gz\n",
      "C:/Users/haziq/OneDrive - Imperial College London/Directional Data/QIFENG/Finial_Cases(37&#x3a;52)(image+mask)\\dtga_vitium_2\\time025\\mask\n",
      "NIfTI file saved to C:/Users/haziq/OneDrive - Imperial College London/Modules/Fourth Year/MEng Individual Project/MastersProject/GHD/Motion_Niftis\\results/dtga_vitium_2\\dtga_vitium_2_time025_seg.nii.gz\n",
      "C:/Users/haziq/OneDrive - Imperial College London/Directional Data/QIFENG/Finial_Cases(37&#x3a;52)(image+mask)\\dtga_vitium_2\\time026\\mask\n",
      "NIfTI file saved to C:/Users/haziq/OneDrive - Imperial College London/Modules/Fourth Year/MEng Individual Project/MastersProject/GHD/Motion_Niftis\\results/dtga_vitium_2\\dtga_vitium_2_time026_seg.nii.gz\n",
      "C:/Users/haziq/OneDrive - Imperial College London/Directional Data/QIFENG/Finial_Cases(37&#x3a;52)(image+mask)\\dtga_vitium_2\\time027\\mask\n",
      "NIfTI file saved to C:/Users/haziq/OneDrive - Imperial College London/Modules/Fourth Year/MEng Individual Project/MastersProject/GHD/Motion_Niftis\\results/dtga_vitium_2\\dtga_vitium_2_time027_seg.nii.gz\n",
      "C:/Users/haziq/OneDrive - Imperial College London/Directional Data/QIFENG/Finial_Cases(37&#x3a;52)(image+mask)\\dtga_vitium_2\\time028\\mask\n",
      "NIfTI file saved to C:/Users/haziq/OneDrive - Imperial College London/Modules/Fourth Year/MEng Individual Project/MastersProject/GHD/Motion_Niftis\\results/dtga_vitium_2\\dtga_vitium_2_time028_seg.nii.gz\n",
      "C:/Users/haziq/OneDrive - Imperial College London/Directional Data/QIFENG/Finial_Cases(37&#x3a;52)(image+mask)\\dtga_vitium_2\\time029\\mask\n",
      "NIfTI file saved to C:/Users/haziq/OneDrive - Imperial College London/Modules/Fourth Year/MEng Individual Project/MastersProject/GHD/Motion_Niftis\\results/dtga_vitium_2\\dtga_vitium_2_time029_seg.nii.gz\n",
      "C:/Users/haziq/OneDrive - Imperial College London/Directional Data/QIFENG/Finial_Cases(37&#x3a;52)(image+mask)\\dtga_vitium_2\\time030\\mask\n",
      "NIfTI file saved to C:/Users/haziq/OneDrive - Imperial College London/Modules/Fourth Year/MEng Individual Project/MastersProject/GHD/Motion_Niftis\\results/dtga_vitium_2\\dtga_vitium_2_time030_seg.nii.gz\n",
      "C:/Users/haziq/OneDrive - Imperial College London/Directional Data/QIFENG/Finial_Cases(37&#x3a;52)(image+mask)\\dtga_vitium_2\\time031\\mask\n",
      "NIfTI file saved to C:/Users/haziq/OneDrive - Imperial College London/Modules/Fourth Year/MEng Individual Project/MastersProject/GHD/Motion_Niftis\\results/dtga_vitium_2\\dtga_vitium_2_time031_seg.nii.gz\n",
      "C:/Users/haziq/OneDrive - Imperial College London/Directional Data/QIFENG/Finial_Cases(37&#x3a;52)(image+mask)\\dtga_vitium_2\\time032\\mask\n",
      "NIfTI file saved to C:/Users/haziq/OneDrive - Imperial College London/Modules/Fourth Year/MEng Individual Project/MastersProject/GHD/Motion_Niftis\\results/dtga_vitium_2\\dtga_vitium_2_time032_seg.nii.gz\n",
      "C:/Users/haziq/OneDrive - Imperial College London/Directional Data/QIFENG/Finial_Cases(37&#x3a;52)(image+mask)\\dtga_vitium_2\\time033\\mask\n",
      "NIfTI file saved to C:/Users/haziq/OneDrive - Imperial College London/Modules/Fourth Year/MEng Individual Project/MastersProject/GHD/Motion_Niftis\\results/dtga_vitium_2\\dtga_vitium_2_time033_seg.nii.gz\n",
      "C:/Users/haziq/OneDrive - Imperial College London/Directional Data/QIFENG/Finial_Cases(37&#x3a;52)(image+mask)\\dtga_vitium_2\\time034\\mask\n",
      "NIfTI file saved to C:/Users/haziq/OneDrive - Imperial College London/Modules/Fourth Year/MEng Individual Project/MastersProject/GHD/Motion_Niftis\\results/dtga_vitium_2\\dtga_vitium_2_time034_seg.nii.gz\n",
      "C:/Users/haziq/OneDrive - Imperial College London/Directional Data/QIFENG/Finial_Cases(37&#x3a;52)(image+mask)\\dtga_vitium_2\\time035\\mask\n",
      "NIfTI file saved to C:/Users/haziq/OneDrive - Imperial College London/Modules/Fourth Year/MEng Individual Project/MastersProject/GHD/Motion_Niftis\\results/dtga_vitium_2\\dtga_vitium_2_time035_seg.nii.gz\n",
      "C:/Users/haziq/OneDrive - Imperial College London/Directional Data/QIFENG/Finial_Cases(37&#x3a;52)(image+mask)\\dtga_vitium_2\\time036\\mask\n",
      "NIfTI file saved to C:/Users/haziq/OneDrive - Imperial College London/Modules/Fourth Year/MEng Individual Project/MastersProject/GHD/Motion_Niftis\\results/dtga_vitium_2\\dtga_vitium_2_time036_seg.nii.gz\n",
      "C:/Users/haziq/OneDrive - Imperial College London/Directional Data/QIFENG/Finial_Cases(37&#x3a;52)(image+mask)\\dtga_vitium_2\\time037\\mask\n",
      "NIfTI file saved to C:/Users/haziq/OneDrive - Imperial College London/Modules/Fourth Year/MEng Individual Project/MastersProject/GHD/Motion_Niftis\\results/dtga_vitium_2\\dtga_vitium_2_time037_seg.nii.gz\n",
      "C:/Users/haziq/OneDrive - Imperial College London/Directional Data/QIFENG/Finial_Cases(37&#x3a;52)(image+mask)\\dtga_vitium_2\\time038\\mask\n",
      "NIfTI file saved to C:/Users/haziq/OneDrive - Imperial College London/Modules/Fourth Year/MEng Individual Project/MastersProject/GHD/Motion_Niftis\\results/dtga_vitium_2\\dtga_vitium_2_time038_seg.nii.gz\n",
      "C:/Users/haziq/OneDrive - Imperial College London/Directional Data/QIFENG/Finial_Cases(37&#x3a;52)(image+mask)\\dtga_vitium_2\\time039\\mask\n",
      "NIfTI file saved to C:/Users/haziq/OneDrive - Imperial College London/Modules/Fourth Year/MEng Individual Project/MastersProject/GHD/Motion_Niftis\\results/dtga_vitium_2\\dtga_vitium_2_time039_seg.nii.gz\n",
      "C:/Users/haziq/OneDrive - Imperial College London/Directional Data/QIFENG/Finial_Cases(37&#x3a;52)(image+mask)\\dtga_vitium_2\\time040\\mask\n",
      "NIfTI file saved to C:/Users/haziq/OneDrive - Imperial College London/Modules/Fourth Year/MEng Individual Project/MastersProject/GHD/Motion_Niftis\\results/dtga_vitium_2\\dtga_vitium_2_time040_seg.nii.gz\n",
      "C:/Users/haziq/OneDrive - Imperial College London/Directional Data/QIFENG/Finial_Cases(37&#x3a;52)(image+mask)\\stic2025-1_2\\time035\\mask\n",
      "NIfTI file saved to C:/Users/haziq/OneDrive - Imperial College London/Modules/Fourth Year/MEng Individual Project/MastersProject/GHD/Motion_Niftis\\results/stic2025-1_2\\stic2025-1_2_time035_seg.nii.gz\n",
      "C:/Users/haziq/OneDrive - Imperial College London/Directional Data/QIFENG/Finial_Cases(37&#x3a;52)(image+mask)\\stic2025-1_2\\time036\\mask\n",
      "NIfTI file saved to C:/Users/haziq/OneDrive - Imperial College London/Modules/Fourth Year/MEng Individual Project/MastersProject/GHD/Motion_Niftis\\results/stic2025-1_2\\stic2025-1_2_time036_seg.nii.gz\n",
      "C:/Users/haziq/OneDrive - Imperial College London/Directional Data/QIFENG/Finial_Cases(37&#x3a;52)(image+mask)\\stic2025-1_2\\time037\\mask\n",
      "NIfTI file saved to C:/Users/haziq/OneDrive - Imperial College London/Modules/Fourth Year/MEng Individual Project/MastersProject/GHD/Motion_Niftis\\results/stic2025-1_2\\stic2025-1_2_time037_seg.nii.gz\n",
      "C:/Users/haziq/OneDrive - Imperial College London/Directional Data/QIFENG/Finial_Cases(37&#x3a;52)(image+mask)\\stic2025-1_2\\time038\\mask\n",
      "NIfTI file saved to C:/Users/haziq/OneDrive - Imperial College London/Modules/Fourth Year/MEng Individual Project/MastersProject/GHD/Motion_Niftis\\results/stic2025-1_2\\stic2025-1_2_time038_seg.nii.gz\n",
      "C:/Users/haziq/OneDrive - Imperial College London/Directional Data/QIFENG/Finial_Cases(37&#x3a;52)(image+mask)\\stic2025-1_2\\time039\\mask\n",
      "NIfTI file saved to C:/Users/haziq/OneDrive - Imperial College London/Modules/Fourth Year/MEng Individual Project/MastersProject/GHD/Motion_Niftis\\results/stic2025-1_2\\stic2025-1_2_time039_seg.nii.gz\n",
      "C:/Users/haziq/OneDrive - Imperial College London/Directional Data/QIFENG/Finial_Cases(37&#x3a;52)(image+mask)\\stic2025-1_2\\time040\\mask\n",
      "NIfTI file saved to C:/Users/haziq/OneDrive - Imperial College London/Modules/Fourth Year/MEng Individual Project/MastersProject/GHD/Motion_Niftis\\results/stic2025-1_2\\stic2025-1_2_time040_seg.nii.gz\n",
      "C:/Users/haziq/OneDrive - Imperial College London/Directional Data/QIFENG/Finial_Cases(37&#x3a;52)(image+mask)\\stic2025-1_3\\time001\\mask\n",
      "NIfTI file saved to C:/Users/haziq/OneDrive - Imperial College London/Modules/Fourth Year/MEng Individual Project/MastersProject/GHD/Motion_Niftis\\results/stic2025-1_3\\stic2025-1_3_time001_seg.nii.gz\n",
      "C:/Users/haziq/OneDrive - Imperial College London/Directional Data/QIFENG/Finial_Cases(37&#x3a;52)(image+mask)\\stic2025-1_3\\time002\\mask\n",
      "NIfTI file saved to C:/Users/haziq/OneDrive - Imperial College London/Modules/Fourth Year/MEng Individual Project/MastersProject/GHD/Motion_Niftis\\results/stic2025-1_3\\stic2025-1_3_time002_seg.nii.gz\n",
      "C:/Users/haziq/OneDrive - Imperial College London/Directional Data/QIFENG/Finial_Cases(37&#x3a;52)(image+mask)\\stic2025-1_3\\time003\\mask\n",
      "NIfTI file saved to C:/Users/haziq/OneDrive - Imperial College London/Modules/Fourth Year/MEng Individual Project/MastersProject/GHD/Motion_Niftis\\results/stic2025-1_3\\stic2025-1_3_time003_seg.nii.gz\n",
      "C:/Users/haziq/OneDrive - Imperial College London/Directional Data/QIFENG/Finial_Cases(37&#x3a;52)(image+mask)\\stic2025-1_3\\time004\\mask\n",
      "NIfTI file saved to C:/Users/haziq/OneDrive - Imperial College London/Modules/Fourth Year/MEng Individual Project/MastersProject/GHD/Motion_Niftis\\results/stic2025-1_3\\stic2025-1_3_time004_seg.nii.gz\n",
      "C:/Users/haziq/OneDrive - Imperial College London/Directional Data/QIFENG/Finial_Cases(37&#x3a;52)(image+mask)\\stic2025-1_3\\time005\\mask\n",
      "NIfTI file saved to C:/Users/haziq/OneDrive - Imperial College London/Modules/Fourth Year/MEng Individual Project/MastersProject/GHD/Motion_Niftis\\results/stic2025-1_3\\stic2025-1_3_time005_seg.nii.gz\n",
      "C:/Users/haziq/OneDrive - Imperial College London/Directional Data/QIFENG/Finial_Cases(37&#x3a;52)(image+mask)\\stic2025-1_3\\time006\\mask\n"
     ]
    }
   ],
   "source": [
    "for case in cases:\n",
    "    # print(case)\n",
    "    # # Images\n",
    "    # case_image = os.path.join(realigned_folder,\"images\", case)\n",
    "    # image_times = [folder for folder in glob(case_image+\"/*\") if \"time\" in folder]\n",
    "    # image_output = os.path.join(output_folder, f\"images/{case}\")\n",
    "    # # print(image_output)\n",
    "    # for time in image_times:\n",
    "    #     output = os.path.join(image_output, f\"{os.path.basename(case)}_{os.path.basename(time)}.nii.gz\")\n",
    "    #     print(time)\n",
    "    #     print(output)\n",
    "    #     if os.path.isfile(output):\n",
    "    #         continue\n",
    "    #     break\n",
    "    # break\n",
    "    #     # create_nifti(time,output)       \n",
    "            \n",
    "    #Results\n",
    "    # case_results = os.path.join(realigned_folder,\"results\", case)\n",
    "    case_results = os.path.join(realigned_folder, case)\n",
    "    results_times = [folder for folder in glob(case_results+\"/*\") if \"time\" in folder]\n",
    "    results_output = os.path.join(output_folder, f\"results/{case}\")\n",
    "    # Assign the results times to ED and ES\n",
    "    for time in results_times:\n",
    "\n",
    "        output = os.path.join(results_output, f\"{os.path.basename(case)}_{os.path.basename(time)}.nii.gz\")\n",
    "        #Segmentations\n",
    "        segmentation_path = os.path.join(time,\"mask\")\n",
    "        seg_output = os.path.join(results_output, f\"{os.path.basename(case)}_{os.path.basename(time)}_seg.nii.gz\")\n",
    "        # print(segmentation_path, seg_output)\n",
    "        if  os.path.isfile(seg_output):\n",
    "            continue\n",
    "\n",
    "        # if os.path.isfile(seg_output):\n",
    "        #     continue\n",
    "        # create_nifti(time,output)   \n",
    "        # print(segmentation_path)\n",
    "        # print(seg_output)\n",
    "        print(segmentation_path)\n",
    "        create_nifti(segmentation_path, seg_output)"
   ]
  },
  {
   "cell_type": "code",
   "execution_count": null,
   "id": "9fea53d7",
   "metadata": {},
   "outputs": [],
   "source": []
  }
 ],
 "metadata": {
  "kernelspec": {
   "display_name": "base",
   "language": "python",
   "name": "python3"
  },
  "language_info": {
   "codemirror_mode": {
    "name": "ipython",
    "version": 3
   },
   "file_extension": ".py",
   "mimetype": "text/x-python",
   "name": "python",
   "nbconvert_exporter": "python",
   "pygments_lexer": "ipython3",
   "version": "3.10.9"
  }
 },
 "nbformat": 4,
 "nbformat_minor": 5
}
