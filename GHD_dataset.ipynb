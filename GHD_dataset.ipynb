{
 "cells": [
  {
   "cell_type": "code",
   "execution_count": 2,
   "metadata": {},
   "outputs": [],
   "source": [
    "from glob import glob\n",
    "import re\n",
    "import os\n",
    "import cv2\n",
    "import numpy as np\n",
    "from scipy.ndimage import map_coordinates \n",
    "import nibabel as nib\n",
    "import matplotlib.pyplot as plt"
   ]
  },
  {
   "cell_type": "code",
   "execution_count": 3,
   "metadata": {},
   "outputs": [
    {
     "name": "stdout",
     "output_type": "stream",
     "text": [
      "['C:/Users/haziq/OneDrive - Imperial College London/Directional Data/QIFENG/New_Data_09_03_2025/Finsh_Seg/Results\\\\k2025_5']\n"
     ]
    }
   ],
   "source": [
    "dataset_path = \"C:/Users/haziq/OneDrive - Imperial College London/Directional Data/QIFENG/New_Data_09_03_2025/Finsh_Seg/Results\"\n",
    "cases = glob(dataset_path+\"/*\")\n",
    "print(cases)"
   ]
  },
  {
   "cell_type": "code",
   "execution_count": 4,
   "metadata": {},
   "outputs": [],
   "source": [
    "# Step 1: Load PNG files into a list\n",
    "def load_images(input_folder, type):\n",
    "    file_list = sorted([f for f in os.listdir(input_folder) if f.endswith('.png')])\n",
    "    slices = []\n",
    "    for file in file_list:\n",
    "        img = cv2.imread(os.path.join(input_folder, file), 0)\n",
    "        img = img / img.max()\n",
    "        if type != \"img\":\n",
    "            vals = np.unique(img)\n",
    "            img[img == vals[1]] = 255\n",
    "            img[img == vals[2]] = 127\n",
    "        slices.append(np.array(img))\n",
    "    return slices[:37]  # Ensure only the first 36 images are loaded"
   ]
  },
  {
   "cell_type": "code",
   "execution_count": 5,
   "metadata": {},
   "outputs": [],
   "source": [
    "import numpy as np\n",
    "\n",
    "def cylindrical_volume(slices, angle_step, centroid=None, use_interpolation=True):\n",
    "    # Assume each slice is a 2D numpy array with shape (height, width)\n",
    "    height, width = slices[0].shape\n",
    "    print(f\"Slice dimensions: {(height, width)}\")\n",
    "    \n",
    "    # Determine the center of the image.\n",
    "    # If a centroid tuple is provided, use it. Otherwise, default to the image center.\n",
    "    center_x = center_y = centroid\n",
    "    \n",
    "    # Use a square base dimension that is the maximum of width and height.\n",
    "    base = width\n",
    "    # Create the volume with dimensions (base, base, height).\n",
    "    # The x-y plane is square to fully capture rotated coordinates.\n",
    "    volume = np.zeros((base, base, height), dtype=slices[0].dtype)\n",
    "    \n",
    "    # Process each slice.\n",
    "    for i, slice_img in enumerate(slices):\n",
    "        theta = np.deg2rad(i * angle_step)\n",
    "        cos_theta = np.cos(theta)\n",
    "        sin_theta = np.sin(theta)\n",
    "        \n",
    "        # Loop over pixel positions relative to the image center.\n",
    "        for dx in range(-center_x, center_x):\n",
    "            for dy in range(-center_y, center_y):\n",
    "                # Compute the rotated coordinates for the horizontal offset (dx).\n",
    "                # These determine where the pixel falls in the x-y plane of the volume.\n",
    "                x_rot = int(base // 2 + dx * cos_theta)\n",
    "                y_rot = int(base // 2 + dx * sin_theta)\n",
    "                # Use the vertical offset (dy) to determine the z coordinate.\n",
    "                z_pos = dy + center_y  # This will be in [0, height)\n",
    "                \n",
    "                # Ensure the computed indices are within the volume bounds.\n",
    "                if 0 <= x_rot < base and 0 <= y_rot < base and 0 <= z_pos < height:\n",
    "                    # Map the pixel from the slice into the volume.\n",
    "                    volume[x_rot, y_rot, z_pos] = slice_img[dy + center_y, dx + center_x]\n",
    "    \n",
    "    return volume"
   ]
  },
  {
   "cell_type": "code",
   "execution_count": 6,
   "metadata": {},
   "outputs": [],
   "source": [
    "# Step 3: Save as NIfTI\n",
    "def save_nifti(volume, output_file):\n",
    "    nifti_img = nib.Nifti1Image(volume, affine=np.eye(4))\n",
    "    nib.save(nifti_img, output_file)\n",
    "    print(f\"NIfTI file saved to {output_file}\")"
   ]
  },
  {
   "cell_type": "code",
   "execution_count": 7,
   "metadata": {},
   "outputs": [],
   "source": [
    "def create_nifti(case_folder, output_path, type, time, timestr):\n",
    "    case = case_folder\n",
    "    case = case_folder.replace(\"\\\\\", \"/\").split(\"/\")[-3]\n",
    "    # print(case)\n",
    "\n",
    "    slices = load_images(case_folder+f\"/time{time:03d}\",type)\n",
    "    slices = np.array(slices)\n",
    "\n",
    "    window = [np.shape(slices)[1],np.shape(slices)[1],np.shape(slices)[2]]\n",
    "\n",
    "    centroid = np.shape(slices)[2]//2\n",
    "    volume = cylindrical_volume(slices, 5,centroid ,False)\n",
    "\n",
    "    output_folder = output_path+f\"/{case}\"\n",
    "    if not os.path.isdir(output_folder):\n",
    "        os.makedirs(output_folder)\n",
    "    if type==\"img\":\n",
    "        output_file = output_folder+f\"/{case}_frame{timestr}.nii\"\n",
    "    elif type==\"seg\":\n",
    "        output_file = output_folder+f\"/{case}_frame{timestr}_seg.nii\"\n",
    "    save_nifti(volume, output_file)\n",
    "\n",
    "    return window\n",
    "    "
   ]
  },
  {
   "cell_type": "code",
   "execution_count": 14,
   "metadata": {},
   "outputs": [
    {
     "name": "stdout",
     "output_type": "stream",
     "text": [
      "ES=24\n",
      "ED=4\n",
      "Slice dimensions: (967, 953)\n",
      "NIfTI file saved to C:/Users/haziq/OneDrive - Imperial College London/Directional Data/HAZIQ/NIFTI_dataset/Finsh_Seg/Finsh_Seg_frameES.nii\n",
      "Slice dimensions: (967, 953)\n",
      "NIfTI file saved to C:/Users/haziq/OneDrive - Imperial College London/Directional Data/HAZIQ/NIFTI_dataset/Finsh_Seg/Finsh_Seg_frameES_seg.nii\n",
      "Slice dimensions: (967, 953)\n",
      "NIfTI file saved to C:/Users/haziq/OneDrive - Imperial College London/Directional Data/HAZIQ/NIFTI_dataset/Finsh_Seg/Finsh_Seg_frameED.nii\n",
      "Slice dimensions: (967, 953)\n",
      "NIfTI file saved to C:/Users/haziq/OneDrive - Imperial College London/Directional Data/HAZIQ/NIFTI_dataset/Finsh_Seg/Finsh_Seg_frameED_seg.nii\n"
     ]
    },
    {
     "ename": "FileNotFoundError",
     "evalue": "[Errno 2] No such file or directory: 'C:/Users/haziq/OneDrive - Imperial College London/Directional Data/HAZIQ/NIFTI_dataset/k2025_5/window.txt'",
     "output_type": "error",
     "traceback": [
      "\u001b[1;31m---------------------------------------------------------------------------\u001b[0m",
      "\u001b[1;31mFileNotFoundError\u001b[0m                         Traceback (most recent call last)",
      "Cell \u001b[1;32mIn[14], line 23\u001b[0m\n\u001b[0;32m     20\u001b[0m \u001b[38;5;66;03m#Load ED Mask\u001b[39;00m\n\u001b[0;32m     21\u001b[0m create_nifti(case,output_path,\u001b[38;5;124m\"\u001b[39m\u001b[38;5;124mseg\u001b[39m\u001b[38;5;124m\"\u001b[39m ,ED, \u001b[38;5;124m\"\u001b[39m\u001b[38;5;124mED\u001b[39m\u001b[38;5;124m\"\u001b[39m)\n\u001b[1;32m---> 23\u001b[0m \u001b[38;5;28;01mwith\u001b[39;00m \u001b[38;5;28mopen\u001b[39m(output_path\u001b[38;5;241m+\u001b[39m\u001b[38;5;124mf\u001b[39m\u001b[38;5;124m\"\u001b[39m\u001b[38;5;124m/\u001b[39m\u001b[38;5;132;01m{\u001b[39;00mos\u001b[38;5;241m.\u001b[39mpath\u001b[38;5;241m.\u001b[39mbasename(case)\u001b[38;5;132;01m}\u001b[39;00m\u001b[38;5;124m/window.txt\u001b[39m\u001b[38;5;124m\"\u001b[39m, \u001b[38;5;124m\"\u001b[39m\u001b[38;5;124mw\u001b[39m\u001b[38;5;124m\"\u001b[39m) \u001b[38;5;28;01mas\u001b[39;00m f:\n\u001b[0;32m     24\u001b[0m     f\u001b[38;5;241m.\u001b[39mwrite(\u001b[38;5;124m\"\u001b[39m\u001b[38;5;124m \u001b[39m\u001b[38;5;124m\"\u001b[39m\u001b[38;5;241m.\u001b[39mjoin(\u001b[38;5;28mmap\u001b[39m(\u001b[38;5;28mstr\u001b[39m, window)))\n",
      "File \u001b[1;32mc:\\Users\\haziq\\anaconda3\\Lib\\site-packages\\IPython\\core\\interactiveshell.py:286\u001b[0m, in \u001b[0;36m_modified_open\u001b[1;34m(file, *args, **kwargs)\u001b[0m\n\u001b[0;32m    279\u001b[0m \u001b[38;5;28;01mif\u001b[39;00m file \u001b[38;5;129;01min\u001b[39;00m {\u001b[38;5;241m0\u001b[39m, \u001b[38;5;241m1\u001b[39m, \u001b[38;5;241m2\u001b[39m}:\n\u001b[0;32m    280\u001b[0m     \u001b[38;5;28;01mraise\u001b[39;00m \u001b[38;5;167;01mValueError\u001b[39;00m(\n\u001b[0;32m    281\u001b[0m         \u001b[38;5;124mf\u001b[39m\u001b[38;5;124m\"\u001b[39m\u001b[38;5;124mIPython won\u001b[39m\u001b[38;5;124m'\u001b[39m\u001b[38;5;124mt let you open fd=\u001b[39m\u001b[38;5;132;01m{\u001b[39;00mfile\u001b[38;5;132;01m}\u001b[39;00m\u001b[38;5;124m by default \u001b[39m\u001b[38;5;124m\"\u001b[39m\n\u001b[0;32m    282\u001b[0m         \u001b[38;5;124m\"\u001b[39m\u001b[38;5;124mas it is likely to crash IPython. If you know what you are doing, \u001b[39m\u001b[38;5;124m\"\u001b[39m\n\u001b[0;32m    283\u001b[0m         \u001b[38;5;124m\"\u001b[39m\u001b[38;5;124myou can use builtins\u001b[39m\u001b[38;5;124m'\u001b[39m\u001b[38;5;124m open.\u001b[39m\u001b[38;5;124m\"\u001b[39m\n\u001b[0;32m    284\u001b[0m     )\n\u001b[1;32m--> 286\u001b[0m \u001b[38;5;28;01mreturn\u001b[39;00m io_open(file, \u001b[38;5;241m*\u001b[39margs, \u001b[38;5;241m*\u001b[39m\u001b[38;5;241m*\u001b[39mkwargs)\n",
      "\u001b[1;31mFileNotFoundError\u001b[0m: [Errno 2] No such file or directory: 'C:/Users/haziq/OneDrive - Imperial College London/Directional Data/HAZIQ/NIFTI_dataset/k2025_5/window.txt'"
     ]
    }
   ],
   "source": [
    "output_path = \"C:/Users/haziq/OneDrive - Imperial College London/Directional Data/HAZIQ/NIFTI_dataset\"\n",
    "for case in cases:\n",
    "    # print(os.path.basename(case))\n",
    "    with open(case + \"/info.txt\", 'r') as info:\n",
    "        for line in info:\n",
    "            if line.startswith(\"ES:\"):\n",
    "                ES = int(line.split(\":\", 1)[1].strip())\n",
    "            elif line.startswith(\"ED:\"):\n",
    "                ED = int(line.split(\":\", 1)[1].strip())\n",
    "    ES = int(ES)\n",
    "    ED = int(ED)\n",
    "    print(f\"ES={ES}\")\n",
    "    print(f\"ED={ED}\")\n",
    "    #Load ES Image\n",
    "    window = create_nifti(case,output_path,\"img\" ,ES, \"ES\")\n",
    "    #Load ES Mask\n",
    "    create_nifti(case, output_path,\"seg\" ,ES, \"ES\")\n",
    "    #Load ED Image\n",
    "    create_nifti(case,output_path,\"img\" ,ED, \"ED\")\n",
    "    #Load ED Mask\n",
    "    create_nifti(case,output_path,\"seg\" ,ED, \"ED\")\n",
    "\n",
    "    with open(output_path+f\"/{os.path.basename(case)}/window.txt\", \"w\") as f:\n",
    "        f.write(\" \".join(map(str, window))) "
   ]
  },
  {
   "cell_type": "code",
   "execution_count": null,
   "metadata": {},
   "outputs": [],
   "source": []
  }
 ],
 "metadata": {
  "kernelspec": {
   "display_name": "Python 3",
   "language": "python",
   "name": "python3"
  },
  "language_info": {
   "codemirror_mode": {
    "name": "ipython",
    "version": 3
   },
   "file_extension": ".py",
   "mimetype": "text/x-python",
   "name": "python",
   "nbconvert_exporter": "python",
   "pygments_lexer": "ipython3",
   "version": "3.11.5"
  }
 },
 "nbformat": 4,
 "nbformat_minor": 2
}
